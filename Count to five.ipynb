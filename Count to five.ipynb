{
 "cells": [
  {
   "cell_type": "code",
   "execution_count": 9,
   "metadata": {},
   "outputs": [],
   "source": [
    "class Player:\n",
    "    from sys import maxsize\n",
    "    from random import randint, seed\n",
    "    seed(85734949)\n",
    "    maxint = 1000\n",
    "    def __init__(self):\n",
    "        self.score = 0\n",
    "        self.choice = 0\n",
    "    def pick_a_number(self):\n",
    "        self.choice = randint(1, Player.maxint)\n",
    "        return self.choice\n",
    "    def wins(self, other_player_choice=0):\n",
    "        if (self.choice - other_player_choice) == 1:\n",
    "            self.score += 2\n",
    "        else:\n",
    "            self.score += 1\n",
    "    def __iter__(self):\n",
    "        return (i for i in (self.choice, self.score))"
   ]
  },
  {
   "cell_type": "code",
   "execution_count": 10,
   "metadata": {},
   "outputs": [
    {
     "name": "stdout",
     "output_type": "stream",
     "text": [
      "627                  : 1\n",
      "21                   : 0\n",
      "--------\n",
      "254                  : 1\n",
      "850                  : 1\n",
      "--------\n",
      "973                  : 2\n",
      "76                   : 1\n",
      "--------\n",
      "615                  : 3\n",
      "161                  : 1\n",
      "--------\n",
      "22                   : 3\n",
      "761                  : 2\n",
      "--------\n",
      "610                  : 3\n",
      "892                  : 3\n",
      "--------\n",
      "162                  : 3\n",
      "496                  : 4\n",
      "--------\n",
      "648                  : 3\n",
      "716                  : 5\n",
      "--------\n"
     ]
    }
   ],
   "source": [
    "player1 = Player()\n",
    "player2 = Player()\n",
    "while player1.score < 5 and player2.score < 5:\n",
    "    player1.pick_a_number()\n",
    "    player2.pick_a_number()\n",
    "    if player1.choice == player2.choice:\n",
    "        continue\n",
    "    elif player1.choice > player2.choice:\n",
    "        player1.wins(player2.choice)\n",
    "    else:\n",
    "        player2.wins(player1.choice)\n",
    "    print('{:<20d} : {}'.format(*player1))\n",
    "    print('{:<20d} : {}'.format(*player2))\n",
    "    print('-' * 8)"
   ]
  }
 ],
 "metadata": {
  "kernelspec": {
   "display_name": "Python 2",
   "language": "python",
   "name": "python2"
  },
  "language_info": {
   "codemirror_mode": {
    "name": "ipython",
    "version": 2
   },
   "file_extension": ".py",
   "mimetype": "text/x-python",
   "name": "python",
   "nbconvert_exporter": "python",
   "pygments_lexer": "ipython2",
   "version": "2.7.14"
  }
 },
 "nbformat": 4,
 "nbformat_minor": 1
}
