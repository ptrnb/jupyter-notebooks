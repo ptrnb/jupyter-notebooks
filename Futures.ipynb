{
 "cells": [
  {
   "cell_type": "code",
   "execution_count": 1,
   "metadata": {
    "collapsed": false
   },
   "outputs": [
    {
     "ename": "ImportError",
     "evalue": "No module named 'concurrency'",
     "output_type": "error",
     "traceback": [
      "\u001b[0;31m---------------------------------------------------------------------------\u001b[0m",
      "\u001b[0;31mImportError\u001b[0m                               Traceback (most recent call last)",
      "\u001b[0;32m<ipython-input-1-ee6076455928>\u001b[0m in \u001b[0;36m<module>\u001b[0;34m()\u001b[0m\n\u001b[0;32m----> 1\u001b[0;31m \u001b[0;32mimport\u001b[0m \u001b[0mconcurrency\u001b[0m\u001b[0;34m.\u001b[0m\u001b[0mfutures\u001b[0m\u001b[0;34m\u001b[0m\u001b[0m\n\u001b[0m",
      "\u001b[0;31mImportError\u001b[0m: No module named 'concurrency'"
     ]
    }
   ],
   "source": [
    "import concurrency.futures"
   ]
  },
  {
   "cell_type": "code",
   "execution_count": 1,
   "metadata": {
    "collapsed": false
   },
   "outputs": [],
   "source": [
    "import concurrent.futures"
   ]
  },
  {
   "cell_type": "code",
   "execution_count": 1,
   "metadata": {
    "collapsed": true
   },
   "outputs": [],
   "source": [
    "from time import sleep, strftime\n",
    "from concurrent import futures"
   ]
  },
  {
   "cell_type": "code",
   "execution_count": 12,
   "metadata": {
    "collapsed": true
   },
   "outputs": [],
   "source": [
    "def display(*args):\n",
    "    print(strftime('[%H:%M:%S]'), end = ' ')\n",
    "    print(*args)\n",
    "\n",
    "def loiter(n):\n",
    "    msg = '{}loiter({}): doing nothing for {}s...'\n",
    "    display(msg.format(' '*n, n, n))\n",
    "    sleep(n)\n",
    "    msg = '{}loiter({}): done'\n",
    "    display(msg.format(' '*n, n))\n",
    "    return n * 10\n",
    "\n",
    "def main():\n",
    "    display('Script starting')\n",
    "    executor = futures.ThreadPoolExecutor(max_workers=10)\n",
    "    results = executor.map(loiter, range(7))\n",
    "    display('results:', results)\n",
    "    display('Waiting for individual results:')\n",
    "    for i, result in enumerate(results):\n",
    "        display('result {}: {}'.format(i, result))"
   ]
  },
  {
   "cell_type": "code",
   "execution_count": 13,
   "metadata": {
    "collapsed": false
   },
   "outputs": [
    {
     "name": "stdout",
     "output_type": "stream",
     "text": [
      "[21:57:10] Script starting\n",
      "[21:57:10] loiter(0): doing nothing for 0s...\n",
      "[21:57:10] loiter(0): done\n",
      "[21:57:10]  loiter(1): doing nothing for 1s...\n",
      "[21:57:10]   loiter(2): doing nothing for 2s...\n",
      "[21:57:10]    loiter(3): doing nothing for 3s...\n",
      "[21:57:10]     loiter(4): doing nothing for 4s...\n",
      "[21:57:10]      loiter(5): doing nothing for 5s...\n",
      "[21:57:10]       loiter(6): doing nothing for 6s...\n",
      "[21:57:10] results: <generator object Executor.map.<locals>.result_iterator at 0x1128802b0>\n",
      "[21:57:10] Waiting for individual results:\n",
      "[21:57:10] result 0: 0\n",
      "[21:57:11]  loiter(1): done\n",
      "[21:57:11] result 1: 10\n",
      "[21:57:12]   loiter(2): done\n",
      "[21:57:12] result 2: 20\n",
      "[21:57:13]    loiter(3): done\n",
      "[21:57:13] result 3: 30\n",
      "[21:57:14]     loiter(4): done\n",
      "[21:57:14] result 4: 40\n",
      "[21:57:15]      loiter(5): done\n",
      "[21:57:15] result 5: 50\n",
      "[21:57:16]       loiter(6): done\n",
      "[21:57:16] result 6: 60\n"
     ]
    }
   ],
   "source": [
    "main()"
   ]
  },
  {
   "cell_type": "code",
   "execution_count": null,
   "metadata": {
    "collapsed": true
   },
   "outputs": [],
   "source": []
  }
 ],
 "metadata": {
  "kernelspec": {
   "display_name": "Python 3",
   "language": "python",
   "name": "python3"
  },
  "language_info": {
   "codemirror_mode": {
    "name": "ipython",
    "version": 3
   },
   "file_extension": ".py",
   "mimetype": "text/x-python",
   "name": "python",
   "nbconvert_exporter": "python",
   "pygments_lexer": "ipython3",
   "version": "3.5.0"
  }
 },
 "nbformat": 4,
 "nbformat_minor": 0
}
